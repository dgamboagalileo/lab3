{
 "cells": [
  {
   "cell_type": "markdown",
   "id": "491d7a51-a224-4b40-9fd4-780353104e4e",
   "metadata": {},
   "source": [
    "#1"
   ]
  },
  {
   "cell_type": "code",
   "execution_count": 2,
   "id": "b333087b-2f1c-4749-bba8-00dfb3f1c1f0",
   "metadata": {},
   "outputs": [],
   "source": [
    "def decimalToBinary(n):\n",
    "    return bin(n).replace(\"0b\", \"\")"
   ]
  },
  {
   "cell_type": "code",
   "execution_count": 3,
   "id": "626353bb-d409-4cf6-ba7d-e2da8c4c3ced",
   "metadata": {},
   "outputs": [
    {
     "name": "stdin",
     "output_type": "stream",
     "text": [
      "Ingrese un número decimal entero:  10\n"
     ]
    },
    {
     "data": {
      "text/plain": [
       "'1010'"
      ]
     },
     "execution_count": 3,
     "metadata": {},
     "output_type": "execute_result"
    }
   ],
   "source": [
    "num=int(input(\"Ingrese un número decimal entero: \"))\n",
    "decimalToBinary(num)"
   ]
  },
  {
   "cell_type": "markdown",
   "id": "35bec31e-dd51-4a98-9ab4-1982593c1c84",
   "metadata": {},
   "source": [
    "#2"
   ]
  },
  {
   "cell_type": "code",
   "execution_count": 4,
   "id": "cec6e778-0ec5-4604-96c5-adaa56590cc9",
   "metadata": {},
   "outputs": [],
   "source": [
    "def isprime(num):\n",
    "    for n in range(2,int(num**1/2)+1):\n",
    "        if num%n==0:\n",
    "            return False\n",
    "    return True"
   ]
  },
  {
   "cell_type": "code",
   "execution_count": 7,
   "id": "e743caf4-94d3-47a3-a3f6-cb4c1c718cf4",
   "metadata": {},
   "outputs": [
    {
     "name": "stdin",
     "output_type": "stream",
     "text": [
      "Ingrese un número decimal entero:  8\n"
     ]
    },
    {
     "data": {
      "text/plain": [
       "False"
      ]
     },
     "execution_count": 7,
     "metadata": {},
     "output_type": "execute_result"
    }
   ],
   "source": [
    "num=int(input(\"Ingrese un número decimal entero: \"))\n",
    "isprime(num)"
   ]
  },
  {
   "cell_type": "markdown",
   "id": "3e2e9276-94a8-4b91-a8d2-707e3b5ab22e",
   "metadata": {},
   "source": [
    "#3"
   ]
  },
  {
   "cell_type": "code",
   "execution_count": 59,
   "id": "6598db8b-5492-47c5-a68b-f68afe658e84",
   "metadata": {},
   "outputs": [
    {
     "name": "stdin",
     "output_type": "stream",
     "text": [
      "Ingrese un número que sea el tamaño de la lista:  4\n",
      "Ingrese un número:  6\n",
      "Ingrese un número:  3\n",
      "Ingrese un número:  2\n",
      "Ingrese un número:  1\n"
     ]
    },
    {
     "name": "stdout",
     "output_type": "stream",
     "text": [
      "La desviación estandar es: 1.8708286933869707\n"
     ]
    }
   ],
   "source": [
    "num=int(input(\"Ingrese un número que sea el tamaño de la lista: \"))\n",
    "list = []\n",
    "total=0\n",
    "for i in range(0,num,1):\n",
    "    num2=int(input(\"Ingrese un número: \"))\n",
    "    total=total+num2\n",
    "    list.append(num2)\n",
    "media=total/num\n",
    "suma=0\n",
    "for x in list:\n",
    "    suma=suma+pow(x-media,2)\n",
    "result=pow(suma/num,0.5)  \n",
    "print(\"La desviación estandar es: {}\".format(result))  \n"
   ]
  },
  {
   "cell_type": "markdown",
   "id": "fb2ff956-a200-43bd-840d-6bb694bc55d2",
   "metadata": {},
   "source": [
    "#4"
   ]
  },
  {
   "cell_type": "code",
   "execution_count": 17,
   "id": "30f32f67-0982-4ef3-88b3-7f53d973fcb7",
   "metadata": {},
   "outputs": [],
   "source": [
    "def bubbleSort(arr):\n",
    "    n = len(arr)\n",
    "    for i in range(n-1):\n",
    "        for j in range(0, n-i-1):\n",
    "            if arr[j] > arr[j + 1] :\n",
    "                arr[j], arr[j + 1] = arr[j + 1], arr[j]"
   ]
  },
  {
   "cell_type": "code",
   "execution_count": 20,
   "id": "182599f5-09c8-4caf-a824-135858e71662",
   "metadata": {},
   "outputs": [
    {
     "name": "stdin",
     "output_type": "stream",
     "text": [
      "Ingrese un número que sea el tamaño de la lista:  4\n",
      "Ingrese un número:  13\n",
      "Ingrese un número:  5\n",
      "Ingrese un número:  20\n",
      "Ingrese un número:  50\n"
     ]
    },
    {
     "data": {
      "text/plain": [
       "[5, 13, 20, 50]"
      ]
     },
     "execution_count": 20,
     "metadata": {},
     "output_type": "execute_result"
    }
   ],
   "source": [
    "num=int(input(\"Ingrese un número que sea el tamaño de la lista: \"))\n",
    "list = []\n",
    "total=0\n",
    "for i in range(0,num,1):\n",
    "    num2=int(input(\"Ingrese un número: \"))\n",
    "    list.append(num2)\n",
    "bubbleSort(list)\n",
    "list"
   ]
  },
  {
   "cell_type": "markdown",
   "id": "ab91005f-2859-4101-a8e8-0fa2a44fb261",
   "metadata": {},
   "source": [
    "#5"
   ]
  },
  {
   "cell_type": "code",
   "execution_count": 31,
   "id": "199a70f1-759f-4f09-a55b-674655b503ad",
   "metadata": {},
   "outputs": [
    {
     "data": {
      "text/plain": [
       "'10,20,40,5,70'"
      ]
     },
     "execution_count": 31,
     "metadata": {},
     "output_type": "execute_result"
    }
   ],
   "source": [
    "tupla = (10, 20, 40, 5, 70)\n",
    "delim = ','\n",
    "delim.join([str(value) for value in tupla])\n"
   ]
  },
  {
   "cell_type": "markdown",
   "id": "f0231b1b-3a69-4e57-a893-150c5d3ae5f0",
   "metadata": {},
   "source": [
    "#6"
   ]
  },
  {
   "cell_type": "code",
   "execution_count": 38,
   "id": "8002c7c3-5664-4300-b0d4-8f7a8a000bac",
   "metadata": {},
   "outputs": [],
   "source": [
    "def RemoveTupla(tupla):\n",
    "    tupla = [r for r in tupla if r]\n",
    "    return tupla\n",
    "  "
   ]
  },
  {
   "cell_type": "code",
   "execution_count": 40,
   "id": "564f742c-f67b-4e3a-b397-3af4594ff308",
   "metadata": {},
   "outputs": [
    {
     "name": "stdout",
     "output_type": "stream",
     "text": [
      "['X', ('a', 'b'), ('a', 'b', 'c'), 'd']\n"
     ]
    }
   ],
   "source": [
    "tupla = [(), (), ('X'), ('a', 'b'), ('a', 'b', 'c'), ('d')]\n",
    "print(RemoveTupla(tupla))"
   ]
  },
  {
   "cell_type": "markdown",
   "id": "ab660df9-84b7-4b44-b2d1-e7753ab6e48a",
   "metadata": {},
   "source": [
    "#7"
   ]
  },
  {
   "cell_type": "code",
   "execution_count": null,
   "id": "7711297d-2bde-4a7d-bc05-cea7dda423cc",
   "metadata": {},
   "outputs": [],
   "source": [
    "tupla=((10, 10, 10, 12), (30, 45, 56, 45), (81, 80, 39, 32))\n",
    "tupla2=()\n",
    "for i in range(0,len(tupla),1):\n",
    "    print(tupla[i])\n",
    "    suma=0\n",
    "    for j in range(0,len(tupla[i]),1):\n",
    "        suma=suma+tupla[i][j]\n",
    "    prom=suma/len(tupla[i])\n",
    "    tupla2=tupla2+tuple(prom)\n",
    "    i=+1\n",
    "print(tupla2)"
   ]
  }
 ],
 "metadata": {
  "kernelspec": {
   "display_name": "Python 3 (ipykernel)",
   "language": "python",
   "name": "python3"
  },
  "language_info": {
   "codemirror_mode": {
    "name": "ipython",
    "version": 3
   },
   "file_extension": ".py",
   "mimetype": "text/x-python",
   "name": "python",
   "nbconvert_exporter": "python",
   "pygments_lexer": "ipython3",
   "version": "3.9.7"
  },
  "toc-showtags": false
 },
 "nbformat": 4,
 "nbformat_minor": 5
}
